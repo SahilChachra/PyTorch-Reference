{
 "cells": [
  {
   "cell_type": "code",
   "execution_count": 1,
   "metadata": {},
   "outputs": [],
   "source": [
    "import torch\n",
    "import numpy as np"
   ]
  },
  {
   "cell_type": "markdown",
   "metadata": {},
   "source": [
    "## Creating Tensors"
   ]
  },
  {
   "cell_type": "code",
   "execution_count": 2,
   "metadata": {},
   "outputs": [
    {
     "name": "stdout",
     "output_type": "stream",
     "text": [
      "tensor([[1, 2, 3],\n",
      "        [4, 5, 6]])\n",
      "Shape of t : torch.Size([2, 3])\n",
      "dtype of t : torch.int64\n"
     ]
    }
   ],
   "source": [
    "t = torch.tensor([[1, 2, 3], [4, 5, 6]])\n",
    "print(t)\n",
    "print('Shape of t :',t.shape)\n",
    "print('dtype of t :',t.dtype)"
   ]
  },
  {
   "cell_type": "code",
   "execution_count": 3,
   "metadata": {},
   "outputs": [
    {
     "name": "stdout",
     "output_type": "stream",
     "text": [
      "tensor([[1., 2., 3.],\n",
      "        [4., 5., 6.]])\n",
      "dtype of t : torch.float32\n"
     ]
    }
   ],
   "source": [
    "# Create tensor withh specific dtype\n",
    "\n",
    "t = torch.tensor([[1, 2, 3], [4, 5, 6]], dtype=torch.float32)\n",
    "print(t)\n",
    "print('dtype of t :', t.dtype)"
   ]
  },
  {
   "cell_type": "code",
   "execution_count": 4,
   "metadata": {},
   "outputs": [
    {
     "name": "stdout",
     "output_type": "stream",
     "text": [
      "tensor([[1., 2., 3.],\n",
      "        [4., 5., 6.]])\n",
      "Is tensor t on GPU?  False\n"
     ]
    }
   ],
   "source": [
    "# Have tensor on CPU (default)\n",
    "\n",
    "t = torch.tensor([[1, 2, 3], [4, 5, 6]], dtype=torch.float32, device=\"cpu\")\n",
    "print(t)\n",
    "print('Is tensor t on GPU? ',t.is_cuda)"
   ]
  },
  {
   "cell_type": "markdown",
   "metadata": {},
   "source": [
    "## Attributes of Tensor"
   ]
  },
  {
   "cell_type": "code",
   "execution_count": 5,
   "metadata": {},
   "outputs": [
    {
     "name": "stdout",
     "output_type": "stream",
     "text": [
      "Dtype : torch.float32\n",
      "Device on which tensor is : cpu\n",
      "Shape : torch.Size([2, 3])\n",
      "Req  Grad : False\n"
     ]
    }
   ],
   "source": [
    "t = torch.tensor([[1,2,3], [4,5,6]], dtype=torch.float32, device='cpu')\n",
    "\n",
    "print('Dtype :', t.dtype)\n",
    "print('Device on which tensor is :', t.device)\n",
    "print('Shape :', t.shape)\n",
    "print('Req  Grad :', t.requires_grad)"
   ]
  },
  {
   "cell_type": "markdown",
   "metadata": {},
   "source": [
    "## Tensor Initialization"
   ]
  },
  {
   "cell_type": "code",
   "execution_count": 6,
   "metadata": {},
   "outputs": [
    {
     "name": "stdout",
     "output_type": "stream",
     "text": [
      "Empty Tensor (Random values) :\n",
      " tensor([[0., 0., 0.],\n",
      "        [0., 0., 0.],\n",
      "        [0., 0., 0.]])\n"
     ]
    }
   ],
   "source": [
    "x = torch.empty(size=(3, 3))\n",
    "print('Empty Tensor (Random values) :\\n', x)"
   ]
  },
  {
   "cell_type": "code",
   "execution_count": 7,
   "metadata": {},
   "outputs": [
    {
     "name": "stdout",
     "output_type": "stream",
     "text": [
      "Tensor having only zeros :\n",
      " tensor([[0., 0., 0., 0.],\n",
      "        [0., 0., 0., 0.],\n",
      "        [0., 0., 0., 0.],\n",
      "        [0., 0., 0., 0.]])\n"
     ]
    }
   ],
   "source": [
    "x = torch.zeros(size=(4,4))\n",
    "print('Tensor having only zeros :\\n', x)"
   ]
  },
  {
   "cell_type": "code",
   "execution_count": 8,
   "metadata": {},
   "outputs": [
    {
     "name": "stdout",
     "output_type": "stream",
     "text": [
      "Tensor having only ones :\n",
      " tensor([[1., 1., 1., 1., 1., 1.],\n",
      "        [1., 1., 1., 1., 1., 1.],\n",
      "        [1., 1., 1., 1., 1., 1.],\n",
      "        [1., 1., 1., 1., 1., 1.],\n",
      "        [1., 1., 1., 1., 1., 1.]])\n"
     ]
    }
   ],
   "source": [
    "x = torch.ones(size=(5,6))\n",
    "print('Tensor having only ones :\\n', x)"
   ]
  },
  {
   "cell_type": "code",
   "execution_count": 9,
   "metadata": {},
   "outputs": [
    {
     "name": "stdout",
     "output_type": "stream",
     "text": [
      "Identity Tensor :\n",
      " tensor([[1., 0., 0., 0.],\n",
      "        [0., 1., 0., 0.],\n",
      "        [0., 0., 1., 0.],\n",
      "        [0., 0., 0., 1.]])\n"
     ]
    }
   ],
   "source": [
    "x = torch.eye(4)  # or torch.eye(size=(4,4))\n",
    "print('Identity Tensor :\\n', x)"
   ]
  },
  {
   "cell_type": "code",
   "execution_count": 10,
   "metadata": {},
   "outputs": [
    {
     "name": "stdout",
     "output_type": "stream",
     "text": [
      "Torch.arange :\n",
      " tensor([0, 1, 2, 3, 4, 5, 6, 7, 8, 9])\n"
     ]
    }
   ],
   "source": [
    "x = torch.arange(10)\n",
    "print('Torch.arange :\\n', x)"
   ]
  },
  {
   "cell_type": "code",
   "execution_count": 11,
   "metadata": {},
   "outputs": [
    {
     "name": "stdout",
     "output_type": "stream",
     "text": [
      "Linspace (6 values between 0.1 and 1 with equal diff btw them) :\n",
      " tensor([0.1000, 0.2800, 0.4600, 0.6400, 0.8200, 1.0000])\n"
     ]
    }
   ],
   "source": [
    "x = torch.linspace(start=0.1, end=1, steps=6)\n",
    "print('Linspace (6 values between 0.1 and 1 with equal diff btw them) :\\n', x)"
   ]
  },
  {
   "cell_type": "code",
   "execution_count": 12,
   "metadata": {},
   "outputs": [
    {
     "name": "stdout",
     "output_type": "stream",
     "text": [
      "Normally distributed empty Tensor :\n",
      " tensor([[-1.0591, -0.2420,  0.1418, -0.7357],\n",
      "        [ 0.7471, -0.1710,  0.2644, -0.6426],\n",
      "        [-1.2417, -0.7207, -0.4643, -0.1480],\n",
      "        [ 0.4440,  0.8576,  0.5315,  1.1076]])\n"
     ]
    }
   ],
   "source": [
    "x = torch.empty(size=(4,4)).normal_(mean=0, std=1)\n",
    "\n",
    "# x = torch.empty(size=(4,4)).uniform_(0, 1)\n",
    "\n",
    "print('Normally distributed empty Tensor :\\n', x)"
   ]
  },
  {
   "cell_type": "code",
   "execution_count": 13,
   "metadata": {},
   "outputs": [
    {
     "name": "stdout",
     "output_type": "stream",
     "text": [
      "Tensor having one in its Diagonal, rest 0 :\n",
      " tensor([[1., 0., 0.],\n",
      "        [0., 1., 0.],\n",
      "        [0., 0., 1.]])\n"
     ]
    }
   ],
   "source": [
    "x = torch.diag(torch.ones(3))\n",
    "print('Tensor having one in its Diagonal, rest 0 :\\n',x)"
   ]
  },
  {
   "cell_type": "markdown",
   "metadata": {},
   "source": [
    "## Initialize Tensors to other types (int, float, double)"
   ]
  },
  {
   "cell_type": "code",
   "execution_count": 14,
   "metadata": {},
   "outputs": [
    {
     "name": "stdout",
     "output_type": "stream",
     "text": [
      "Tensor is : tensor([0, 1, 2, 3])\n",
      "t.bool() : tensor([False,  True,  True,  True])\n",
      "t.short() : tensor([0, 1, 2, 3], dtype=torch.int16)\n",
      "t.long() : tensor([0, 1, 2, 3])\n",
      "t.half() : tensor([0., 1., 2., 3.], dtype=torch.float16)\n",
      "t.float() : tensor([0., 1., 2., 3.])\n",
      "t.double() : tensor([0., 1., 2., 3.], dtype=torch.float64)\n"
     ]
    }
   ],
   "source": [
    "t = torch.arange(4)\n",
    "print('Tensor is :', t)\n",
    "print('t.bool() :', t.bool())\n",
    "print('t.short() :', t.short())\n",
    "print('t.long() :', t.long())\n",
    "print('t.half() :', t.half())  # Converts to float16\n",
    "print('t.float() :', t.float())\n",
    "print('t.double() :', t.double())"
   ]
  },
  {
   "cell_type": "markdown",
   "metadata": {},
   "source": [
    "## Numpy & Tensor"
   ]
  },
  {
   "cell_type": "code",
   "execution_count": 15,
   "metadata": {},
   "outputs": [],
   "source": [
    "arr = np.zeros((5, 5))\n",
    "# print('5x5 Zeros Numpy Matrix :', arr)\n",
    "\n",
    "# Tensor from Numpy\n",
    "t = torch.from_numpy(arr)\n",
    "\n",
    "# Numpy from Tensor\n",
    "np_arr = t.numpy()"
   ]
  },
  {
   "cell_type": "markdown",
   "metadata": {},
   "source": [
    "## Tensor Mathematical Operations"
   ]
  },
  {
   "cell_type": "code",
   "execution_count": 16,
   "metadata": {},
   "outputs": [
    {
     "name": "stdout",
     "output_type": "stream",
     "text": [
      "x : tensor([1, 2, 3])\n",
      "y : tensor([9, 8, 7])\n"
     ]
    }
   ],
   "source": [
    "x = torch.tensor([1, 2, 3])\n",
    "y = torch.tensor([9, 8, 7])\n",
    "\n",
    "print('x :', x)\n",
    "print('y :', y)"
   ]
  },
  {
   "cell_type": "markdown",
   "metadata": {},
   "source": [
    "### Addition"
   ]
  },
  {
   "cell_type": "code",
   "execution_count": 17,
   "metadata": {},
   "outputs": [
    {
     "name": "stdout",
     "output_type": "stream",
     "text": [
      "x + y = tensor([10, 10, 10])\n",
      "torch.add(x, y) = tensor([10, 10, 10])\n",
      "Inplace Addition x.add_(y) = tensor([10, 10, 10])  <- Value of x will be updated and y will remain same\n",
      "Now, value of x : tensor([10, 10, 10])\n"
     ]
    }
   ],
   "source": [
    "print('x + y =', x+y)\n",
    "print('torch.add(x, y) =', torch.add(x, y))\n",
    "print('Inplace Addition x.add_(y) =', x.add_(y), \n",
    "      ' <- Value of x will be updated and y will remain same')\n",
    "print('Now, value of x :', x)"
   ]
  },
  {
   "cell_type": "markdown",
   "metadata": {},
   "source": [
    "### Subtraction"
   ]
  },
  {
   "cell_type": "code",
   "execution_count": 18,
   "metadata": {},
   "outputs": [
    {
     "name": "stdout",
     "output_type": "stream",
     "text": [
      "x - y = tensor([-8, -6, -4])\n"
     ]
    }
   ],
   "source": [
    "# Subtraction\n",
    "x = torch.tensor([1, 2, 3])\n",
    "y = torch.tensor([9, 8, 7])\n",
    "\n",
    "print('x - y =', x-y)"
   ]
  },
  {
   "cell_type": "markdown",
   "metadata": {},
   "source": [
    "### Division"
   ]
  },
  {
   "cell_type": "code",
   "execution_count": 19,
   "metadata": {},
   "outputs": [
    {
     "name": "stdout",
     "output_type": "stream",
     "text": [
      "z = tensor([0.1111, 0.2500, 0.4286])\n"
     ]
    }
   ],
   "source": [
    "x = torch.tensor([1, 2, 3])\n",
    "y = torch.tensor([9, 8, 7])\n",
    "\n",
    "z = x/y  # element wise division\n",
    "print('z =', z)"
   ]
  },
  {
   "cell_type": "markdown",
   "metadata": {},
   "source": [
    "### Exponential"
   ]
  },
  {
   "cell_type": "code",
   "execution_count": 20,
   "metadata": {},
   "outputs": [
    {
     "name": "stdout",
     "output_type": "stream",
     "text": [
      "x.pow(2) : tensor([1, 4, 9])\n",
      "x ** 2 = tensor([1, 4, 9])\n"
     ]
    }
   ],
   "source": [
    "z = x.pow(2)  # Element wise raising power\n",
    "print('x.pow(2) :', z)\n",
    "\n",
    "# We can perform same operation like foll\n",
    "z = x ** 2\n",
    "print('x ** 2 =', z)"
   ]
  },
  {
   "cell_type": "markdown",
   "metadata": {},
   "source": [
    "### Extra"
   ]
  },
  {
   "cell_type": "code",
   "execution_count": 21,
   "metadata": {},
   "outputs": [
    {
     "name": "stdout",
     "output_type": "stream",
     "text": [
      "x > 0 = tensor([True, True, True])\n"
     ]
    }
   ],
   "source": [
    "z = x > 0\n",
    "print('x > 0 =', z)"
   ]
  },
  {
   "cell_type": "markdown",
   "metadata": {},
   "source": [
    "### Matrix Multiplication"
   ]
  },
  {
   "cell_type": "code",
   "execution_count": 22,
   "metadata": {},
   "outputs": [
    {
     "name": "stdout",
     "output_type": "stream",
     "text": [
      "torch.mm(x1, x22) :\n",
      " tensor([[2.1647, 1.0205, 1.8849],\n",
      "        [1.5448, 1.3492, 1.8805]])\n"
     ]
    }
   ],
   "source": [
    "x1 = torch.rand((2, 5))\n",
    "x2 = torch.rand((5, 3))\n",
    "\n",
    "x3 = torch.mm(x1, x2)   # Output will of size 2x3\n",
    "print('torch.mm(x1, x22) :\\n',x3)\n",
    "\n",
    "x3 = x1.mm(x2)"
   ]
  },
  {
   "cell_type": "code",
   "execution_count": 23,
   "metadata": {},
   "outputs": [
    {
     "name": "stdout",
     "output_type": "stream",
     "text": [
      "AxAxA = tensor([[0.3385, 0.4008, 0.3123],\n",
      "        [0.0825, 0.1968, 0.8483],\n",
      "        [0.0123, 0.4717, 0.3529]])\n"
     ]
    }
   ],
   "source": [
    "# Performing A x A x A\n",
    "\n",
    "a = torch.rand(3,3)\n",
    "a.matrix_power(3)  # AxAxA, output size will be 3x3\n",
    "print('AxAxA =', a)"
   ]
  },
  {
   "cell_type": "code",
   "execution_count": 24,
   "metadata": {},
   "outputs": [
    {
     "name": "stdout",
     "output_type": "stream",
     "text": [
      "Dot product = tensor(46)\n"
     ]
    }
   ],
   "source": [
    "# Dot product\n",
    "\n",
    "z = torch.dot(x, y)\n",
    "print('Dot product =', z)"
   ]
  },
  {
   "cell_type": "code",
   "execution_count": 25,
   "metadata": {},
   "outputs": [
    {
     "name": "stdout",
     "output_type": "stream",
     "text": [
      "Batch Multiplication :\n",
      " tensor([[[4.8570, 5.6794, 4.4128,  ..., 4.6306, 5.2864, 4.4817],\n",
      "         [5.2713, 6.3025, 4.9063,  ..., 4.1950, 5.0330, 5.1803],\n",
      "         [4.6610, 5.6852, 5.1100,  ..., 4.9656, 5.1416, 5.0448],\n",
      "         ...,\n",
      "         [4.4870, 4.8119, 4.7845,  ..., 4.7916, 4.6403, 3.3851],\n",
      "         [5.3169, 6.0678, 5.3803,  ..., 5.2443, 5.1624, 4.5075],\n",
      "         [4.5816, 4.3874, 4.6410,  ..., 5.0637, 4.3793, 4.0335]],\n",
      "\n",
      "        [[4.1036, 5.7213, 4.9280,  ..., 5.5183, 4.8738, 4.2537],\n",
      "         [5.0719, 6.4843, 7.0456,  ..., 6.6320, 5.2123, 5.7406],\n",
      "         [5.2390, 6.3421, 6.7604,  ..., 6.3028, 5.2766, 5.7213],\n",
      "         ...,\n",
      "         [3.9658, 5.0545, 5.0947,  ..., 5.2005, 4.4287, 4.4493],\n",
      "         [4.7100, 6.4480, 5.5007,  ..., 6.4452, 5.3504, 5.0711],\n",
      "         [4.5815, 5.6666, 5.0698,  ..., 6.1211, 4.2861, 4.8395]],\n",
      "\n",
      "        [[4.1599, 3.9667, 3.6323,  ..., 4.2452, 4.1019, 3.4182],\n",
      "         [3.2672, 3.6962, 3.3464,  ..., 3.6147, 2.9910, 3.0853],\n",
      "         [4.7883, 5.4026, 4.5575,  ..., 5.7955, 4.6575, 4.6818],\n",
      "         ...,\n",
      "         [4.3589, 5.1296, 4.0718,  ..., 5.2472, 4.5296, 4.2934],\n",
      "         [4.0525, 4.8598, 4.0126,  ..., 4.9981, 4.4642, 3.3188],\n",
      "         [3.6284, 4.3005, 3.9727,  ..., 4.3568, 3.6515, 3.4361]],\n",
      "\n",
      "        ...,\n",
      "\n",
      "        [[4.9636, 4.8727, 5.3472,  ..., 5.6774, 6.1662, 5.7103],\n",
      "         [5.7822, 4.0662, 4.7001,  ..., 4.6494, 4.7782, 5.3216],\n",
      "         [5.3403, 4.4739, 4.5636,  ..., 4.4993, 4.9985, 5.2818],\n",
      "         ...,\n",
      "         [4.0990, 3.7457, 3.4427,  ..., 4.3417, 4.7847, 4.6275],\n",
      "         [5.2201, 4.1662, 4.8340,  ..., 4.9823, 4.7171, 5.0040],\n",
      "         [4.4455, 3.7790, 3.8931,  ..., 4.6938, 4.5578, 4.2040]],\n",
      "\n",
      "        [[4.5747, 4.1503, 4.0791,  ..., 5.0743, 4.2026, 4.7987],\n",
      "         [5.4557, 5.3089, 4.9017,  ..., 5.1687, 4.4076, 5.3814],\n",
      "         [5.6527, 4.2493, 3.7823,  ..., 4.9643, 3.3080, 3.8447],\n",
      "         ...,\n",
      "         [4.5435, 4.7188, 4.9788,  ..., 4.3883, 3.5444, 4.2041],\n",
      "         [4.1452, 4.4378, 4.0441,  ..., 3.6140, 3.1752, 4.6946],\n",
      "         [4.5494, 4.0016, 4.7461,  ..., 4.6977, 4.2800, 4.2935]],\n",
      "\n",
      "        [[4.5809, 5.1357, 4.7463,  ..., 4.3634, 3.9795, 3.5153],\n",
      "         [5.5590, 5.4786, 5.1519,  ..., 3.4836, 3.3832, 4.2381],\n",
      "         [6.2301, 5.8773, 5.4479,  ..., 4.2374, 4.1121, 3.9415],\n",
      "         ...,\n",
      "         [7.5885, 6.8138, 6.3889,  ..., 5.7470, 5.0917, 5.1796],\n",
      "         [4.7396, 5.3098, 4.5708,  ..., 3.3162, 3.5846, 3.5768],\n",
      "         [6.0434, 6.9662, 5.5969,  ..., 4.1619, 4.7787, 3.7857]]])\n"
     ]
    }
   ],
   "source": [
    "# Batch Matrix Multiplication\n",
    "\n",
    "batch_size = 32\n",
    "n = 10\n",
    "m = 20\n",
    "p = 30\n",
    "\n",
    "t1 = torch.rand((batch_size, n, m))\n",
    "t2 = torch.rand((batch_size, m, p))\n",
    "out = torch.bmm(t1, t2)\n",
    "print('Batch Multiplication :\\n', out)"
   ]
  },
  {
   "cell_type": "markdown",
   "metadata": {},
   "source": [
    "## Broadcasting"
   ]
  },
  {
   "cell_type": "code",
   "execution_count": 26,
   "metadata": {},
   "outputs": [
    {
     "name": "stdout",
     "output_type": "stream",
     "text": [
      "x1 - v =  tensor([[ 0.1341, -0.1859,  0.4890,  0.2916,  0.6124],\n",
      "        [-0.2816, -0.6218, -0.1393, -0.3534, -0.0686],\n",
      "        [ 0.1008,  0.1886,  0.1019, -0.1996,  0.7849],\n",
      "        [ 0.5000, -0.0858,  0.3378,  0.3009,  0.5015],\n",
      "        [-0.1478,  0.0152, -0.4033, -0.1533,  0.5741]])\n",
      "x1 ** v =  tensor([[0.7930, 0.6192, 0.9980, 0.9062, 0.9591],\n",
      "        [0.4626, 0.1447, 0.6022, 0.4051, 0.6768],\n",
      "        [0.7720, 0.9087, 0.7776, 0.5595, 0.9924],\n",
      "        [0.9936, 0.7019, 0.9181, 0.9116, 0.9343],\n",
      "        [0.5906, 0.7810, 0.3171, 0.5993, 0.9509]])\n"
     ]
    }
   ],
   "source": [
    "x1 = torch.rand((5, 5))  # 5x5 Matrix\n",
    "v = torch.rand((1, 5))  #1x5 Matrix or Vector ( 1 row, 5 cols)\n",
    "\n",
    "z  = x1 - v  # the vector becomes 5x5, one row repeated 5 times\n",
    "\n",
    "print('x1 - v = ', z)\n",
    "\n",
    "z = x1 ** v  # Vector v becomes 5x5, one row repeated 5 times\n",
    "\n",
    "print('x1 ** v = ', z)"
   ]
  },
  {
   "cell_type": "markdown",
   "metadata": {},
   "source": [
    "## Other Operations"
   ]
  },
  {
   "cell_type": "code",
   "execution_count": 27,
   "metadata": {},
   "outputs": [
    {
     "name": "stdout",
     "output_type": "stream",
     "text": [
      "Matrix X :\n",
      " tensor([[1, 2, 3],\n",
      "        [4, 5, 6]])\n",
      "Sum along Dimension 0 :\n",
      " tensor([5, 7, 9])\n"
     ]
    }
   ],
   "source": [
    "x = torch.tensor([[1, 2, 3], [4, 5, 6]])\n",
    "print('Matrix X :\\n', x)\n",
    "\n",
    "sum_x = torch.sum(x, dim = 0)  # Take sum of Matrix v along dimension = 0\n",
    "print('Sum along Dimension 0 :\\n', sum_x)"
   ]
  },
  {
   "cell_type": "markdown",
   "metadata": {},
   "source": [
    "### Get Maximum and Minimum"
   ]
  },
  {
   "cell_type": "code",
   "execution_count": 28,
   "metadata": {},
   "outputs": [
    {
     "name": "stdout",
     "output_type": "stream",
     "text": [
      "Max - vals = tensor([10, 14, 15]), indices = tensor([2, 2, 2])\n",
      "Min - vals = tensor([1, 2, 3]), indices = tensor([0, 0, 0])\n"
     ]
    }
   ],
   "source": [
    "x = torch.tensor([\n",
    "    [1, 2, 3],\n",
    "    [6, 7, 8],\n",
    "    [10, 14, 15]\n",
    "])\n",
    "\n",
    "vals, indices = torch.max(x, dim=0)\n",
    "print('Max - vals = {0}, indices = {1}'.format(vals, indices))\n",
    "\n",
    "\n",
    "vals, indices = torch.min(x, dim=0)\n",
    "print('Min - vals = {0}, indices = {1}'.format(vals, indices))"
   ]
  },
  {
   "cell_type": "markdown",
   "metadata": {},
   "source": [
    "### Get Absolute value"
   ]
  },
  {
   "cell_type": "code",
   "execution_count": 29,
   "metadata": {},
   "outputs": [
    {
     "name": "stdout",
     "output_type": "stream",
     "text": [
      "X is :\n",
      " tensor([[-0.1950, -0.0024, -0.6750, -0.1497],\n",
      "        [-0.5007, -0.5524, -0.7166, -0.1580],\n",
      "        [-0.5832, -0.8637, -0.8987, -0.8270]])\n",
      "torch.abs(x) :\n",
      " tensor([[0.1950, 0.0024, 0.6750, 0.1497],\n",
      "        [0.5007, 0.5524, 0.7166, 0.1580],\n",
      "        [0.5832, 0.8637, 0.8987, 0.8270]])\n"
     ]
    }
   ],
   "source": [
    "x = -(torch.rand(3, 4))\n",
    "print('X is :\\n', x)\n",
    "print('torch.abs(x) :\\n', torch.abs(x))"
   ]
  },
  {
   "cell_type": "code",
   "execution_count": 30,
   "metadata": {},
   "outputs": [
    {
     "name": "stdout",
     "output_type": "stream",
     "text": [
      "Argmax of x :  tensor(8)\n"
     ]
    }
   ],
   "source": [
    "x = torch.tensor([\n",
    "    [1, 2, 3],\n",
    "    [6, 7, 8],\n",
    "    [10, 14, 15]\n",
    "])\n",
    "\n",
    "\n",
    "z = torch.argmax(x)\n",
    "print('Argmax of x : ', z)"
   ]
  },
  {
   "cell_type": "markdown",
   "metadata": {},
   "source": [
    "### Element wise comparison"
   ]
  },
  {
   "cell_type": "code",
   "execution_count": 31,
   "metadata": {},
   "outputs": [
    {
     "name": "stdout",
     "output_type": "stream",
     "text": [
      "torch.eq(x, y) :\n",
      " tensor([[False, False, False],\n",
      "        [False, False, False],\n",
      "        [False, False, False]])\n"
     ]
    }
   ],
   "source": [
    "x = torch.rand(3, 3)\n",
    "y = torch.rand(3, 3)\n",
    "\n",
    "z = torch.eq(x, y)\n",
    "\n",
    "print('torch.eq(x, y) :\\n', z)  # Checks if elements are equal"
   ]
  },
  {
   "cell_type": "markdown",
   "metadata": {},
   "source": [
    "### Sort Tensor"
   ]
  },
  {
   "cell_type": "code",
   "execution_count": 32,
   "metadata": {},
   "outputs": [
    {
     "name": "stdout",
     "output_type": "stream",
     "text": [
      "tensor([[0.6347, 0.3796, 0.3104],\n",
      "        [0.7366, 0.8239, 0.3852],\n",
      "        [0.8538, 0.9217, 0.7261]]) tensor([[0, 0, 1],\n",
      "        [2, 1, 0],\n",
      "        [1, 2, 2]])\n"
     ]
    }
   ],
   "source": [
    "sorted_z, indices = torch.sort(y, dim=0, descending=False)  \n",
    "# Sort Tensor along dimension 0\n",
    "print(sorted_z, indices)"
   ]
  },
  {
   "cell_type": "markdown",
   "metadata": {},
   "source": [
    "### Like ReLu"
   ]
  },
  {
   "cell_type": "code",
   "execution_count": 33,
   "metadata": {},
   "outputs": [
    {
     "name": "stdout",
     "output_type": "stream",
     "text": [
      "tensor([[ 1,  0,  3],\n",
      "        [ 0,  7,  8],\n",
      "        [10,  0, 15]])\n"
     ]
    }
   ],
   "source": [
    "#  Check all elements of X. If element is less than a min value then set it to 0\n",
    "\n",
    "x = torch.tensor([\n",
    "    [1, -2, 3],\n",
    "    [-6, 7, 8],\n",
    "    [10, -14, 15]\n",
    "])\n",
    "\n",
    "z = torch.clamp(x, min=0)\n",
    "print(z)"
   ]
  },
  {
   "cell_type": "markdown",
   "metadata": {},
   "source": [
    "## Tensor Indexing"
   ]
  },
  {
   "cell_type": "code",
   "execution_count": 34,
   "metadata": {},
   "outputs": [
    {
     "name": "stdout",
     "output_type": "stream",
     "text": [
      "X :\n",
      " tensor([[0.5748, 0.1341, 0.0322, 0.5308],\n",
      "        [0.1659, 0.7520, 0.9542, 0.2423],\n",
      "        [0.0602, 0.7253, 0.6680, 0.3695],\n",
      "        [0.0973, 0.9195, 0.9954, 0.4714],\n",
      "        [0.9920, 0.1772, 0.8205, 0.9937]])\n",
      "torch.Size([4])\n",
      "torch.Size([5])\n"
     ]
    }
   ],
   "source": [
    "batch_size = 5\n",
    "features = 4\n",
    "x = torch.rand((batch_size, features))\n",
    "\n",
    "print('X :\\n', x)\n",
    "\n",
    "print(x[0].shape)  # x[0, :] -> 0th row, all columns(all features)\n",
    "print(x[:, 0].shape)"
   ]
  },
  {
   "cell_type": "markdown",
   "metadata": {},
   "source": [
    "### Fancy Indexing"
   ]
  },
  {
   "cell_type": "code",
   "execution_count": 35,
   "metadata": {},
   "outputs": [
    {
     "name": "stdout",
     "output_type": "stream",
     "text": [
      "tensor([2, 5, 8])\n",
      "tensor([0.0749, 0.5236])\n"
     ]
    }
   ],
   "source": [
    "x = torch.arange(10)\n",
    "indices = [2, 5, 8]\n",
    "print(x[indices])\n",
    "\n",
    "x = torch.rand((3, 5))\n",
    "rows = torch.tensor([1, 0])\n",
    "cols = torch.tensor([4, 0])\n",
    "print(x[rows, cols]) # First selects rows then columns. Picks 1 row then 0th row"
   ]
  },
  {
   "cell_type": "markdown",
   "metadata": {},
   "source": [
    "### Advance indexing"
   ]
  },
  {
   "cell_type": "code",
   "execution_count": 36,
   "metadata": {},
   "outputs": [
    {
     "name": "stdout",
     "output_type": "stream",
     "text": [
      "tensor([0, 1, 9])\n",
      "tensor([9])\n",
      "tensor([0, 2, 4, 6, 8])\n"
     ]
    }
   ],
   "source": [
    "x = torch.arange(10)\n",
    "print(x[(x < 2) | (x > 8)])\n",
    "print(x[(x > 2) & (x > 8)])\n",
    "print(x[x.remainder(2)==0])"
   ]
  },
  {
   "cell_type": "markdown",
   "metadata": {},
   "source": [
    "### Useful Operations"
   ]
  },
  {
   "cell_type": "code",
   "execution_count": 37,
   "metadata": {},
   "outputs": [
    {
     "name": "stdout",
     "output_type": "stream",
     "text": [
      "tensor([ 0,  2,  4,  6,  8, 10,  6,  7,  8,  9])\n",
      "Print Unique Values : tensor([0, 1, 2, 3, 4])\n",
      "Print Dimension of Matrix : 1\n",
      "Count number of values using x.numel() : 10\n"
     ]
    }
   ],
   "source": [
    "print(torch.where(x > 5, x, x*2))\n",
    "\n",
    "print('Print Unique Values :', torch.tensor([0, 0, 1, 2, 2, 3, 4]).unique())\n",
    "\n",
    "print('Print Dimension of Matrix :',x.ndimension())  # if 5x5x5 then it will return -> 5 Dim\n",
    "\n",
    "print('Count number of values using x.numel() :',x.numel()) # Count num of values"
   ]
  },
  {
   "cell_type": "markdown",
   "metadata": {},
   "source": [
    "## Reshape Tensors"
   ]
  },
  {
   "cell_type": "code",
   "execution_count": 38,
   "metadata": {},
   "outputs": [
    {
     "name": "stdout",
     "output_type": "stream",
     "text": [
      "x_3x3 (using view) :  tensor([[0, 1, 2],\n",
      "        [3, 4, 5],\n",
      "        [6, 7, 8]])\n"
     ]
    }
   ],
   "source": [
    "x = torch.arange(9)\n",
    "\n",
    "x_3x3 = x.view(3, 3)  # Acts on Contigous tensors\n",
    "print('x_3x3 (using view) : ', x_3x3)\n",
    "\n",
    "x_3x3 = x.reshape(3, 3)  # Makes copy. Always work. Little slow"
   ]
  },
  {
   "cell_type": "code",
   "execution_count": 39,
   "metadata": {},
   "outputs": [
    {
     "name": "stdout",
     "output_type": "stream",
     "text": [
      "Transpose of x_3x3 :\n",
      " tensor([[0, 3, 6],\n",
      "        [1, 4, 7],\n",
      "        [2, 5, 8]])\n"
     ]
    }
   ],
   "source": [
    "y = x_3x3.t()  #Transpose\n",
    "print('Transpose of x_3x3 :\\n', y)"
   ]
  },
  {
   "cell_type": "code",
   "execution_count": 40,
   "metadata": {},
   "outputs": [
    {
     "name": "stdout",
     "output_type": "stream",
     "text": [
      "tensor([0, 3, 6, 1, 4, 7, 2, 5, 8])\n"
     ]
    }
   ],
   "source": [
    "# - If view() doesnt work then the tensor is not contiguous. Then\n",
    "print(y.contiguous().view(9))  # Convert Tensor to contiguous Tensor first"
   ]
  },
  {
   "cell_type": "markdown",
   "metadata": {},
   "source": [
    "## Concatenate"
   ]
  },
  {
   "cell_type": "code",
   "execution_count": 41,
   "metadata": {},
   "outputs": [
    {
     "name": "stdout",
     "output_type": "stream",
     "text": [
      "torch.Size([4, 5])\n",
      "torch.Size([2, 10])\n"
     ]
    }
   ],
   "source": [
    "x1 = torch.rand((2, 5))\n",
    "x2 = torch.rand((2, 5))\n",
    "print(torch.cat((x1, x2), dim=0).shape)  # Concatenate\n",
    "print(torch.cat((x1, x2), dim=1).shape)"
   ]
  },
  {
   "cell_type": "markdown",
   "metadata": {},
   "source": [
    "## Unroll the elements"
   ]
  },
  {
   "cell_type": "code",
   "execution_count": 42,
   "metadata": {},
   "outputs": [
    {
     "name": "stdout",
     "output_type": "stream",
     "text": [
      "torch.Size([10])\n"
     ]
    }
   ],
   "source": [
    "# Unroll the elements, have 10 elements instead of 2*5\n",
    "z = x1.view(-1) # Flatten the tensor\n",
    "print(z.shape)"
   ]
  },
  {
   "cell_type": "code",
   "execution_count": 43,
   "metadata": {},
   "outputs": [
    {
     "name": "stdout",
     "output_type": "stream",
     "text": [
      "torch.Size([64, 10])\n"
     ]
    }
   ],
   "source": [
    "batch = 64\n",
    "x = torch.rand((batch, 2, 5))\n",
    "z = x.view(batch, -1)\n",
    "print(z.shape)"
   ]
  },
  {
   "cell_type": "markdown",
   "metadata": {},
   "source": [
    "## Switch Axes"
   ]
  },
  {
   "cell_type": "code",
   "execution_count": 44,
   "metadata": {},
   "outputs": [
    {
     "name": "stdout",
     "output_type": "stream",
     "text": [
      "torch.Size([64, 5, 2])\n"
     ]
    }
   ],
   "source": [
    "# Switch the axes. Keep batch but exchange 2 5 to 5 2\n",
    "z = x.permute(0, 2, 1)  # keep 0 dimension to 0, 2nd dimension as 1st and 1st dimension as 2nd\n",
    "print(z.shape)"
   ]
  },
  {
   "cell_type": "code",
   "execution_count": 45,
   "metadata": {},
   "outputs": [
    {
     "name": "stdout",
     "output_type": "stream",
     "text": [
      "torch.Size([1, 10])\n",
      "torch.Size([10, 1])\n"
     ]
    }
   ],
   "source": [
    "x = torch.arange(10)\n",
    "#  make 1x10 vector\n",
    "print(x.unsqueeze(0).shape)\n",
    "print(x.unsqueeze(1).shape)  # to have 10x1 vector"
   ]
  },
  {
   "cell_type": "code",
   "execution_count": 46,
   "metadata": {},
   "outputs": [
    {
     "name": "stdout",
     "output_type": "stream",
     "text": [
      "torch.Size([1, 10])\n"
     ]
    }
   ],
   "source": [
    "x = torch.arange(10).unsqueeze(0).unsqueeze(1)  # 1x1x10\n",
    "\n",
    "z = x.squeeze(0)  # to remove 1st 1\n",
    "print(z.shape)"
   ]
  },
  {
   "cell_type": "code",
   "execution_count": null,
   "metadata": {},
   "outputs": [],
   "source": []
  }
 ],
 "metadata": {
  "kernelspec": {
   "display_name": "Python 3",
   "language": "python",
   "name": "python3"
  },
  "language_info": {
   "codemirror_mode": {
    "name": "ipython",
    "version": 3
   },
   "file_extension": ".py",
   "mimetype": "text/x-python",
   "name": "python",
   "nbconvert_exporter": "python",
   "pygments_lexer": "ipython3",
   "version": "3.7.10"
  }
 },
 "nbformat": 4,
 "nbformat_minor": 4
}
