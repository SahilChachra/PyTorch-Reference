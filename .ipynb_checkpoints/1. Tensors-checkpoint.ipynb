{
 "cells": [
  {
   "cell_type": "code",
   "execution_count": 1,
   "metadata": {},
   "outputs": [],
   "source": [
    "import torch\n",
    "import numpy as np"
   ]
  },
  {
   "cell_type": "markdown",
   "metadata": {},
   "source": [
    "## Creating Tensors"
   ]
  },
  {
   "cell_type": "code",
   "execution_count": 3,
   "metadata": {},
   "outputs": [
    {
     "name": "stdout",
     "output_type": "stream",
     "text": [
      "tensor([[1, 2, 3],\n",
      "        [4, 5, 6]])\n",
      "Shape of t : torch.Size([2, 3])\n",
      "dtype of t : torch.int64\n"
     ]
    }
   ],
   "source": [
    "t = torch.tensor([[1, 2, 3], [4, 5, 6]])\n",
    "print(t)\n",
    "print('Shape of t :',t.shape)\n",
    "print('dtype of t :',t.dtype)"
   ]
  },
  {
   "cell_type": "code",
   "execution_count": 4,
   "metadata": {},
   "outputs": [
    {
     "name": "stdout",
     "output_type": "stream",
     "text": [
      "tensor([[1., 2., 3.],\n",
      "        [4., 5., 6.]])\n",
      "dtype of t : torch.float32\n"
     ]
    }
   ],
   "source": [
    "# Create tensor withh specific dtype\n",
    "\n",
    "t = torch.tensor([[1, 2, 3], [4, 5, 6]], dtype=torch.float32)\n",
    "print(t)\n",
    "print('dtype of t :', t.dtype)"
   ]
  },
  {
   "cell_type": "code",
   "execution_count": 6,
   "metadata": {},
   "outputs": [
    {
     "name": "stdout",
     "output_type": "stream",
     "text": [
      "tensor([[1., 2., 3.],\n",
      "        [4., 5., 6.]])\n",
      "Is tensor t on GPU?  False\n"
     ]
    }
   ],
   "source": [
    "# Have tensor on CPU (default)\n",
    "\n",
    "t = torch.tensor([[1, 2, 3], [4, 5, 6]], dtype=torch.float32, device=\"cpu\")\n",
    "print(t)\n",
    "print('Is tensor t on GPU? ',t.is_cuda)"
   ]
  },
  {
   "cell_type": "markdown",
   "metadata": {},
   "source": [
    "## Attributes of Tensor"
   ]
  },
  {
   "cell_type": "code",
   "execution_count": 8,
   "metadata": {},
   "outputs": [
    {
     "name": "stdout",
     "output_type": "stream",
     "text": [
      "Dtype : torch.float32\n",
      "Device on which tensor is : cpu\n",
      "Shape : torch.Size([2, 3])\n",
      "Req  Grad : False\n"
     ]
    }
   ],
   "source": [
    "t = torch.tensor([[1,2,3], [4,5,6]], dtype=torch.float32, device='cpu')\n",
    "\n",
    "print('Dtype :', t.dtype)\n",
    "print('Device on which tensor is :', t.device)\n",
    "print('Shape :', t.shape)\n",
    "print('Req  Grad :', t.requires_grad)"
   ]
  },
  {
   "cell_type": "markdown",
   "metadata": {},
   "source": [
    "## Tensor Initialization"
   ]
  },
  {
   "cell_type": "code",
   "execution_count": 11,
   "metadata": {},
   "outputs": [
    {
     "name": "stdout",
     "output_type": "stream",
     "text": [
      "Empty Tensor (Random values) :\n",
      " tensor([[ 9.0061e-35,  4.5898e-41, -4.0755e+33],\n",
      "        [ 3.0705e-41,  4.4842e-44,  0.0000e+00],\n",
      "        [ 8.9683e-44,  0.0000e+00, -4.0806e+33]])\n"
     ]
    }
   ],
   "source": [
    "x = torch.empty(size=(3, 3))\n",
    "print('Empty Tensor (Random values) :\\n', x)"
   ]
  },
  {
   "cell_type": "code",
   "execution_count": 12,
   "metadata": {},
   "outputs": [
    {
     "name": "stdout",
     "output_type": "stream",
     "text": [
      "Tensor having only ones :\n",
      " tensor([[0., 0., 0., 0.],\n",
      "        [0., 0., 0., 0.],\n",
      "        [0., 0., 0., 0.],\n",
      "        [0., 0., 0., 0.]])\n"
     ]
    }
   ],
   "source": [
    "x = torch.zeros(size=(4,4))\n",
    "print('Tensor having only zeros :\\n', x)"
   ]
  },
  {
   "cell_type": "code",
   "execution_count": 13,
   "metadata": {},
   "outputs": [
    {
     "name": "stdout",
     "output_type": "stream",
     "text": [
      "Tensor having only ones :\n",
      " tensor([[1., 1., 1., 1., 1., 1.],\n",
      "        [1., 1., 1., 1., 1., 1.],\n",
      "        [1., 1., 1., 1., 1., 1.],\n",
      "        [1., 1., 1., 1., 1., 1.],\n",
      "        [1., 1., 1., 1., 1., 1.]])\n"
     ]
    }
   ],
   "source": [
    "x = torch.ones(size=(5,6))\n",
    "print('Tensor having only ones :\\n', x)"
   ]
  },
  {
   "cell_type": "code",
   "execution_count": 14,
   "metadata": {},
   "outputs": [
    {
     "name": "stdout",
     "output_type": "stream",
     "text": [
      "Identity Tensor :\n",
      " tensor([[1., 0., 0., 0.],\n",
      "        [0., 1., 0., 0.],\n",
      "        [0., 0., 1., 0.],\n",
      "        [0., 0., 0., 1.]])\n"
     ]
    }
   ],
   "source": [
    "x = torch.eye(4)  # or torch.eye(size=(4,4))\n",
    "print('Identity Tensor :\\n', x)"
   ]
  },
  {
   "cell_type": "code",
   "execution_count": 17,
   "metadata": {},
   "outputs": [
    {
     "name": "stdout",
     "output_type": "stream",
     "text": [
      "Torch.arange :\n",
      " tensor([0, 1, 2, 3, 4, 5, 6, 7, 8, 9])\n"
     ]
    }
   ],
   "source": [
    "x = torch.arange(10)\n",
    "print('Torch.arange :\\n', x)"
   ]
  },
  {
   "cell_type": "code",
   "execution_count": 18,
   "metadata": {},
   "outputs": [
    {
     "name": "stdout",
     "output_type": "stream",
     "text": [
      "Linspace (6 values between 0.1 and 1 with equal diff btw them) :\n",
      " tensor([0.1000, 0.2800, 0.4600, 0.6400, 0.8200, 1.0000])\n"
     ]
    }
   ],
   "source": [
    "x = torch.linspace(start=0.1, end=1, steps=6)\n",
    "print('Linspace (6 values between 0.1 and 1 with equal diff btw them) :\\n', x)"
   ]
  },
  {
   "cell_type": "code",
   "execution_count": 19,
   "metadata": {},
   "outputs": [
    {
     "name": "stdout",
     "output_type": "stream",
     "text": [
      "Normally distributed empty Tensor :\n",
      " tensor([[ 0.5096, -1.8264,  1.5324, -1.2149],\n",
      "        [ 0.1096,  0.3929, -0.7003,  0.5536],\n",
      "        [-0.4497, -0.7850, -0.9686,  0.8318],\n",
      "        [-0.1907, -0.7993,  0.6228,  1.5178]])\n"
     ]
    }
   ],
   "source": [
    "x = torch.empty(size=(4,4)).normal_(mean=0, std=1)\n",
    "\n",
    "# x = torch.empty(size=(4,4)).uniform_(0, 1)\n",
    "\n",
    "print('Normally distributed empty Tensor :\\n', x)"
   ]
  },
  {
   "cell_type": "code",
   "execution_count": 21,
   "metadata": {},
   "outputs": [
    {
     "name": "stdout",
     "output_type": "stream",
     "text": [
      "Tensor having one in its Diagonal, rest 0 :\n",
      " tensor([[2., 0., 0.],\n",
      "        [0., 2., 0.],\n",
      "        [0., 0., 2.]])\n"
     ]
    }
   ],
   "source": [
    "x = torch.diag(torch.ones(3))\n",
    "print('Tensor having one in its Diagonal, rest 0 :\\n',x)"
   ]
  },
  {
   "cell_type": "markdown",
   "metadata": {},
   "source": [
    "## Initialize Tensors to other types (int, float, double)"
   ]
  },
  {
   "cell_type": "code",
   "execution_count": null,
   "metadata": {},
   "outputs": [],
   "source": []
  }
 ],
 "metadata": {
  "kernelspec": {
   "display_name": "Python 3",
   "language": "python",
   "name": "python3"
  },
  "language_info": {
   "codemirror_mode": {
    "name": "ipython",
    "version": 3
   },
   "file_extension": ".py",
   "mimetype": "text/x-python",
   "name": "python",
   "nbconvert_exporter": "python",
   "pygments_lexer": "ipython3",
   "version": "3.7.10"
  }
 },
 "nbformat": 4,
 "nbformat_minor": 4
}
